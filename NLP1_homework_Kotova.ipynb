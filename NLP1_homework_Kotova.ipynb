{
 "cells": [
  {
   "cell_type": "markdown",
   "metadata": {
    "id": "dH7qx_irU4Y8"
   },
   "source": [
    "###ML1_1: \n",
    "https://www.hackerrank.com/challenges/capturing-non-capturing-groups/problem?isFullScreen=true\n",
    "\n",
    "###ML1_2: \n",
    "https://www.hackerrank.com/challenges/branch-reset-groups/problem?isFullScreen=true\n",
    "\n",
    "###ML1_3: \n",
    "https://www.hackerrank.com/challenges/detect-html-links/problem?isFullScreen=true\n",
    "\n",
    "###ML1_4: Реализовать stemming, lemmatization & BoW на следующем датасете: https://cloud.mail.ru/public/Z4L3/vB8GcgTtK (Russian Toxic-abuse comments)"
   ]
  },
  {
   "cell_type": "markdown",
   "metadata": {},
   "source": [
    "******************* МОЙ КОММЕНТАРИЙ ********************************************\n",
    "Первые две регулярки на сайте отработали без ошибок\n",
    "Третья дает верный результат во всех случаях. Но на сайте не проходит проверку. Наверное я не поянла как туда записвать, чтобы код скомпелировался\n",
    "********************************************************************************"
   ]
  },
  {
   "cell_type": "code",
   "execution_count": null,
   "metadata": {
    "id": "xJfkstKpqsXp"
   },
   "outputs": [],
   "source": [
    "Regex_Pattern = r'(ok){3,}'"
   ]
  },
  {
   "cell_type": "code",
   "execution_count": null,
   "metadata": {},
   "outputs": [],
   "source": [
    "Regex_Pattern = '^(\\d\\d(-|(---)|(\\.)|(:)))(\\d\\d(\\1|\\2|\\3|\\4)){2}(\\d\\d)$';"
   ]
  },
  {
   "cell_type": "code",
   "execution_count": 1,
   "metadata": {},
   "outputs": [],
   "source": [
    "import re"
   ]
  },
  {
   "cell_type": "code",
   "execution_count": 150,
   "metadata": {},
   "outputs": [
    {
     "name": "stdout",
     "output_type": "stream",
     "text": [
      "http://www.quackit.com/html/tutorial/html_links.cfm,Example Link\n",
      "http://www.quackit.com/html/examples/html_links_examples.cfm,More Link Examples...\n",
      "/wiki/Orval_Overall,Orval Overall\n",
      "/wiki/West_Triangle_Economic_Zone,West Triangle Economic Zone\n",
      "/wiki/Kismet_(1943_film),Kismet\n",
      "/wiki/Main_Page,Main page\n",
      "/wiki/Portal:Contents,Contents\n",
      "/wiki/Portal:Featured_content,Featured content\n",
      "/wiki/Portal:Current_events,Current events\n",
      "/wiki/Special:Random,Random article\n",
      "//donate.wikimedia.org/wiki/Special:FundraiserRedirector?utm_source=donate&utm_medium=sidebar&utm_campaign=C13_en.wikipedia.org&uselang=en,Donate to Wikipedia\n",
      "http://www.quackit.com/html/tutorial/html_links.cfm,Example Link\n",
      "http://www.quackit.com/html/examples/html_links_examples.cfm,More Link Examples...\n",
      "\n"
     ]
    }
   ],
   "source": [
    "STDIN='''2\n",
    "<p><a href=\"http://www.quackit.com/html/tutorial/html_links.cfm\">Example Link</a></p>\n",
    "<div class=\"more-info\"><a href=\"http://www.quackit.com/html/examples/html_links_examples.cfm\">More Link Examples...</a></div>\n",
    "9\n",
    "<li style=\"-moz-float-edge: content-box\">... that <a href=\"/wiki/Orval_Overall\" title=\"Orval Overall\">Orval Overall</a> <i>(pictured)</i> is the only <b><a href=\"/wiki/List_of_Major_League_Baseball_pitchers_who_have_struck_out_four_batters_in_one_inning\" title=\"List of Major League Baseball pitchers who have struck out four batters in one inning\">Major League Baseball player to strike out four batters in one inning</a></b> in the <a href=\"/wiki/World_Series\" title=\"World Series\">World Series</a>?</li>\n",
    "<li style=\"-moz-float-edge: content-box\">... that the three cities of the <b><a href=\"/wiki/West_Triangle_Economic_Zone\" title=\"West Triangle Economic Zone\">West Triangle Economic Zone</a></b> contribute 40% of Western China's GDP?</li>\n",
    "<li style=\"-moz-float-edge: content-box\">... that <i><a href=\"/wiki/Kismet_(1943_film)\" title=\"Kismet (1943 film)\">Kismet</a></i>, directed by <b><a href=\"/wiki/Gyan_Mukherjee\" title=\"Gyan Mukherjee\">Gyan Mukherjee</a></b>, ran at the <a href=\"/wiki/Roxy_Cinema_(Kolkata)\" title{-truncated-}\n",
    "<div class=\"portal\" role=\"navigation\" id='p-navigation'>\n",
    "<h3>Navigation</h3>\n",
    "<div class=\"body\">\n",
    "<ul>\n",
    " <li id=\"n-mainpage-description\"><a href=\"/wiki/Main_Page\" title=\"Visit the main page [z]\" accesskey=\"z\">Main page</a></li>\n",
    " <li id=\"n-contents\"><a href=\"/wiki/Portal:Contents\" title=\"Guides to browsing Wikipedia\">Contents</a></li>\n",
    " <li id=\"n-featuredcontent\"><a href=\"/wiki/Portal:Featured_content\" title=\"Featured content  the best of Wikipedia\">Featured content</a></li>\n",
    "<li id=\"n-currentevents\"><a href=\"/wiki/Portal:Current_events\" title=\"Find background information on current events\">Current events</a></li>\n",
    "<li id=\"n-randompage\"><a href=\"/wiki/Special:Random\" title=\"Load a random article [x]\" accesskey=\"x\">Random article</a></li>\n",
    "<li id=\"n-sitesupport\"><a href=\"//donate.wikimedia.org/wiki/Special:FundraiserRedirector?utm_source=donate&utm_medium=sidebar&utm_campaign=C13_en.wikipedia.org&uselang=en\" title=\"Support us\">Donate to Wikipedia</a></li>\n",
    "</ul>\n",
    "</div>\n",
    "</div> \n",
    "<p><a href=\"http://www.quackit.com/html/tutorial/html_links.cfm\">Example Link</a></p>\n",
    "<div class=\"more-info\"><a href=\"http://www.quackit.com/html/examples/html_links_examples.cfm\">More Link Examples...</a></div>\n",
    "'''\n",
    "STDOUT=''\n",
    "stdin_list=STDIN.split('\\n')\n",
    "Regex_Pattern='.*?href=\"(.+?)\\\".*?>(.*?)<'\n",
    "for i in stdin_list:\n",
    "    if re.search(Regex_Pattern, i) is not None:\n",
    "        STDOUT=STDOUT+re.match(Regex_Pattern, i)[1] + ',' +re.match(Regex_Pattern, i)[2]+ '\\n'\n",
    "print(STDOUT)"
   ]
  }
 ],
 "metadata": {
  "colab": {
   "name": "NLP1_homework",
   "provenance": [],
   "toc_visible": true
  },
  "kernelspec": {
   "display_name": "Python 3",
   "language": "python",
   "name": "python3"
  },
  "language_info": {
   "codemirror_mode": {
    "name": "ipython",
    "version": 3
   },
   "file_extension": ".py",
   "mimetype": "text/x-python",
   "name": "python",
   "nbconvert_exporter": "python",
   "pygments_lexer": "ipython3",
   "version": "3.8.5"
  }
 },
 "nbformat": 4,
 "nbformat_minor": 1
}
