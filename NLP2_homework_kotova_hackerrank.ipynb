{
 "cells": [
  {
   "cell_type": "markdown",
   "metadata": {
    "id": "OYZRf1ncz-sT"
   },
   "source": [
    "NLP2_1\n",
    "https://www.hackerrank.com/challenges/detect-the-email-addresses/problem?isFullScreen=true"
   ]
  },
  {
   "cell_type": "markdown",
   "metadata": {
    "id": "jKzbIfdq0CKr"
   },
   "source": [
    "NLP2_2 https://www.hackerrank.com/challenges/detect-the-domain-name/problem?isFullScreen=true"
   ]
  },
  {
   "cell_type": "markdown",
   "metadata": {
    "id": "Op8qPHa8J68_"
   },
   "source": [
    "NLP2_3 (дз1): Реализовать stemming, lemmatization & BoW на следующем датасете: https://cloud.mail.ru/public/Z4L3/vB8GcgTtK (Russian Toxic-abuse comments)"
   ]
  },
  {
   "cell_type": "markdown",
   "metadata": {
    "id": "b5DQQnoU1bXY"
   },
   "source": [
    "NLP2_4 Реализовать классификатор токсичных комментариев tfidf на базе датасета\n",
    "https://www.kaggle.com/datasets/blackmoon/russian-language-toxic-comments  \n",
    "\n",
    "Дубликат файла: https://cloud.mail.ru/public/Z4L3/vB8GcgTtK\n",
    "\n"
   ]
  },
  {
   "cell_type": "code",
   "execution_count": null,
   "metadata": {
    "id": "0BRC1-k81pIW"
   },
   "outputs": [],
   "source": []
  },
  {
   "cell_type": "code",
   "execution_count": null,
   "metadata": {},
   "outputs": [],
   "source": []
  },
  {
   "cell_type": "code",
   "execution_count": null,
   "metadata": {},
   "outputs": [],
   "source": []
  },
  {
   "cell_type": "code",
   "execution_count": null,
   "metadata": {},
   "outputs": [],
   "source": [
    "###ML1_3: https://www.hackerrank.com/challenges/detect-html-links/problem?isFullScreen=true\n",
    "\n",
    "# 10 из 10\n",
    "import re\n",
    "import sys\n",
    "\n",
    "std_in=sys.stdin\n",
    "\n",
    "Regex_Pattern='<a href=\"(.+?)\\\"(?:.*?>\\s?(.*?)\\s?<.*?){0,2}?(?:\\s?(?:/a>))'\n",
    "\n",
    "# print(re.findall (Regex_Pattern, STDIN))\n",
    "for line in std_in:\n",
    "    if re.search(Regex_Pattern, line) is not None:\n",
    "        for i in range(len(re.findall(Regex_Pattern, line))):\n",
    "            print(re.findall(Regex_Pattern, line)[i][0] + ','+re.findall(Regex_Pattern, line)[i][1])"
   ]
  },
  {
   "cell_type": "code",
   "execution_count": null,
   "metadata": {},
   "outputs": [],
   "source": [
    "# Enter your code here. Read input from STDIN. Print output to STDOUT\n",
    "# NLP2_1 https://www.hackerrank.com/challenges/detect-the-email-addresses/problem?isFullScreen=true\n",
    "    \n",
    "import re\n",
    "import sys\n",
    "stdout=set()\n",
    "\n",
    "std_in=sys.stdin\n",
    "\n",
    "Regex_Pattern='((?:[\\w|.])+@(?:\\w)*?(?:\\.[A-z]+)+)'\n",
    "\n",
    "b=re.findall(Regex_Pattern, ' '.join(std_in))\n",
    "stdout.update(b)\n",
    "\n",
    "stdout.discard('')\n",
    "\n",
    "print(';'.join(sorted(stdout)))"
   ]
  },
  {
   "cell_type": "code",
   "execution_count": null,
   "metadata": {},
   "outputs": [],
   "source": [
    "# NLP2_2 https://www.hackerrank.com/challenges/detect-the-domain-name/problem?isFullScreen=true\n",
    "\n",
    "import re\n",
    "import sys\n",
    "stdout=set()\n",
    "std_in=sys.stdin\n",
    "\n",
    "Regex_Pattern='://(?:w{2}[w2].)?([A-z0-9\\.-]*(?:\\.[A-z]{0,3}))'\n",
    "\n",
    "b=re.findall(Regex_Pattern, ' '.join(std_in))\n",
    "stdout.update(b)\n",
    "stdout.discard('')\n",
    " \n",
    "print(';'.join(sorted(stdout)))"
   ]
  }
 ],
 "metadata": {
  "colab": {
   "collapsed_sections": [],
   "provenance": []
  },
  "kernelspec": {
   "display_name": "Python 3",
   "language": "python",
   "name": "python3"
  },
  "language_info": {
   "codemirror_mode": {
    "name": "ipython",
    "version": 3
   },
   "file_extension": ".py",
   "mimetype": "text/x-python",
   "name": "python",
   "nbconvert_exporter": "python",
   "pygments_lexer": "ipython3",
   "version": "3.8.3"
  }
 },
 "nbformat": 4,
 "nbformat_minor": 4
}
